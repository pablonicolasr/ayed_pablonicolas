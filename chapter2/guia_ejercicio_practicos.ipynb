{
 "cells": [
  {
   "cell_type": "markdown",
   "id": "21ae9398",
   "metadata": {},
   "source": [
    "Pablo Nicolas Ramos\n",
    "\n",
    "linkedin: https://ar.linkedin.com/in/pablonicolasr"
   ]
  },
  {
   "cell_type": "markdown",
   "id": "3d4eedb1",
   "metadata": {},
   "source": [
    "# Guía de ejercicios prácticos\n",
    "\n",
    "A continuación planteamos una serie de problemas. Para resolverlos se deberá desarrollar una función recursiva."
   ]
  },
  {
   "cell_type": "markdown",
   "id": "97d52d31",
   "metadata": {},
   "source": [
    "1. Implementar una función que permita obtener el valor en la sucesión de Fibonacci para un número dado."
   ]
  },
  {
   "cell_type": "code",
   "execution_count": 1,
   "id": "441f9208",
   "metadata": {},
   "outputs": [],
   "source": [
    "import os"
   ]
  },
  {
   "cell_type": "code",
   "execution_count": 2,
   "id": "306dea97",
   "metadata": {},
   "outputs": [],
   "source": [
    "def clear():\n",
    "        \n",
    "    # clear the screen\n",
    "\n",
    "    return os.system(\"cls\" if os.name==\"nt\" else \"clear\")"
   ]
  },
  {
   "cell_type": "code",
   "execution_count": 3,
   "id": "e21fbf82",
   "metadata": {},
   "outputs": [],
   "source": [
    "def fibonacci(n):\n",
    "    \n",
    "    if n == 0 or n == 1:\n",
    "        \n",
    "        return n\n",
    "    \n",
    "    else:\n",
    "        \n",
    "        return fibonacci(n - 2) + fibonacci(n - 1)"
   ]
  },
  {
   "cell_type": "code",
   "execution_count": 7,
   "id": "4736d5f9",
   "metadata": {},
   "outputs": [
    {
     "name": "stdout",
     "output_type": "stream",
     "text": [
      "Enter the number of the sequence: 8\n",
      "You have entered the number 8\n",
      "\n",
      "Press any key to continue...\n",
      "El numero de fibonacci, de la secuencia número 8 es 21\n"
     ]
    }
   ],
   "source": [
    "if __name__ == \"__main__\":\n",
    "    \n",
    "    band = False\n",
    "    \n",
    "    while not band: \n",
    "        \n",
    "        try:\n",
    "            number = int(input(\"Enter the number of the sequence: \"))\n",
    "            \n",
    "            if number >= 0:\n",
    "                \n",
    "                band = True\n",
    "                \n",
    "                print(f\"You have entered the number {number}\\n\")\n",
    "                \n",
    "            else:\n",
    "                \n",
    "                print(\"You must enter a valid input\\n\")\n",
    "                \n",
    "                print(\"Only integers greater or equal to 0\\n\")\n",
    "                \n",
    "            input(\"Press any key to continue...\")\n",
    "                \n",
    "            clear()\n",
    "                \n",
    "        except Exception as e:\n",
    "            \n",
    "            print(str(e)+\"\\n\")\n",
    "            \n",
    "            print(\"You must enter an integer\\n\")\n",
    "            \n",
    "            input(\"Press any key to continue...\")\n",
    "            \n",
    "            clear()\n",
    "    \n",
    "    fibo = fibonacci(number)\n",
    "    \n",
    "    print(f\"El numero de fibonacci, de la secuencia número {number} es {fibonacci(number)}\")"
   ]
  },
  {
   "cell_type": "markdown",
   "id": "8464d4c1",
   "metadata": {},
   "source": [
    "# 2. Implementar una función que calcule la suma de todos los números enteros comprendidos entre cero y un número entero positivo dado."
   ]
  },
  {
   "cell_type": "code",
   "execution_count": 17,
   "id": "8465b17a",
   "metadata": {},
   "outputs": [],
   "source": [
    "def suma(n):\n",
    "    \n",
    "    if n == 0:\n",
    "        \n",
    "        return 0\n",
    "    \n",
    "    else:\n",
    "        \n",
    "        return n + suma(n - 1)"
   ]
  },
  {
   "cell_type": "code",
   "execution_count": 18,
   "id": "e2cd1af4",
   "metadata": {},
   "outputs": [
    {
     "name": "stdout",
     "output_type": "stream",
     "text": [
      "Enter the number of the sequence: 3\n",
      "You have entered the number 3\n",
      "\n",
      "Press any key to continue...\n",
      "La suma desde 0 a 3 es 6\n"
     ]
    }
   ],
   "source": [
    "if __name__ == \"__main__\":\n",
    "    \n",
    "    band = False\n",
    "    \n",
    "    while not band: \n",
    "        \n",
    "        try:\n",
    "            number = int(input(\"Enter the number of the sequence: \"))\n",
    "            \n",
    "            if number >= 0:\n",
    "                \n",
    "                band = True\n",
    "                \n",
    "                print(f\"You have entered the number {number}\\n\")\n",
    "                \n",
    "            else:\n",
    "                \n",
    "                print(\"You must enter a valid input\\n\")\n",
    "                \n",
    "                print(\"Only integers greater or equal to 0\\n\")\n",
    "                \n",
    "            input(\"Press any key to continue...\")\n",
    "                \n",
    "            clear()\n",
    "                \n",
    "        except Exception as e:\n",
    "            \n",
    "            print(str(e)+\"\\n\")\n",
    "            \n",
    "            print(\"You must enter an integer\\n\")\n",
    "            \n",
    "            input(\"Press any key to continue...\")\n",
    "            \n",
    "            clear()\n",
    "    \n",
    "    add = suma(number)\n",
    "    \n",
    "    print(f\"La suma desde 0 a {number} es {add}\")"
   ]
  },
  {
   "cell_type": "markdown",
   "id": "65045b1b",
   "metadata": {},
   "source": [
    "#  3. Implementar una función para calcular el producto de dos números enteros dados."
   ]
  },
  {
   "cell_type": "code",
   "execution_count": 20,
   "id": "edd51660",
   "metadata": {},
   "outputs": [],
   "source": [
    "def mult(i, j):\n",
    "     \n",
    "    if j == 0:\n",
    "        \n",
    "        return 0\n",
    "    \n",
    "    else:\n",
    "        \n",
    "        return i + mult(i, j - 1)"
   ]
  },
  {
   "cell_type": "code",
   "execution_count": 23,
   "id": "73e2d654",
   "metadata": {},
   "outputs": [
    {
     "name": "stdout",
     "output_type": "stream",
     "text": [
      "Enter the first number of the sequence: 4\n",
      "The first number is 4\n",
      "\n",
      "Press any key to continue...6\n",
      "Enter the second number of the sequence: \n",
      "invalid literal for int() with base 10: ''\n",
      "\n",
      "You must enter an integer\n",
      "\n",
      "Press any key to continue...6\n",
      "Enter the second number of the sequence: \n",
      "invalid literal for int() with base 10: ''\n",
      "\n",
      "You must enter an integer\n",
      "\n",
      "Press any key to continue...\n",
      "Enter the second number of the sequence: 6\n",
      "The second number is 6\n",
      "\n",
      "Press any key to continue...\n",
      "La multiplicacion de 4 y 6 es 24\n"
     ]
    }
   ],
   "source": [
    "if __name__ == \"__main__\":\n",
    "    \n",
    "    band = False\n",
    "    \n",
    "    while not band: \n",
    "        \n",
    "        try:\n",
    "            number1 = int(input(\"Enter the first number of the sequence: \"))\n",
    "            \n",
    "            if number1 >= 0:\n",
    "                \n",
    "                band = True\n",
    "                \n",
    "                print(f\"The first number is {number1}\\n\")\n",
    "                \n",
    "            else:\n",
    "                \n",
    "                print(\"You must enter a valid input\\n\")\n",
    "                \n",
    "                print(\"Only integers greater or equal to 0\\n\")\n",
    "                \n",
    "            input(\"Press any key to continue...\")\n",
    "                \n",
    "            clear()\n",
    "                \n",
    "        except Exception as e:\n",
    "            \n",
    "            print(str(e)+\"\\n\")\n",
    "            \n",
    "            print(\"You must enter an integer\\n\")\n",
    "            \n",
    "            input(\"Press any key to continue...\")\n",
    "            \n",
    "            clear()\n",
    "    \n",
    "    band = False\n",
    "    \n",
    "    while not band: \n",
    "        \n",
    "        try:\n",
    "            number2 = int(input(\"Enter the second number of the sequence: \"))\n",
    "            \n",
    "            if number2 >= 0:\n",
    "                \n",
    "                band = True\n",
    "                \n",
    "                print(f\"The second number is {number2}\\n\")\n",
    "                \n",
    "            else:\n",
    "                \n",
    "                print(\"You must enter a valid input\\n\")\n",
    "                \n",
    "                print(\"Only integers greater or equal to 0\\n\")\n",
    "                \n",
    "            input(\"Press any key to continue...\")\n",
    "                \n",
    "            clear()\n",
    "                \n",
    "        except Exception as e:\n",
    "            \n",
    "            print(str(e)+\"\\n\")\n",
    "            \n",
    "            print(\"You must enter an integer\\n\")\n",
    "            \n",
    "            input(\"Press any key to continue...\")\n",
    "            \n",
    "            clear()\n",
    "    \n",
    "    factor = mult(number1, number2)\n",
    "    \n",
    "    print(f\"La multiplicacion de {number1} y {number2} es {factor}\")"
   ]
  },
  {
   "cell_type": "markdown",
   "id": "7ba1d3a6",
   "metadata": {},
   "source": [
    "# 4. Implementar una función para calcular la potencia dado dos números enteros, el primero representa la base y segundo el exponente."
   ]
  },
  {
   "cell_type": "code",
   "execution_count": 25,
   "id": "042b8b83",
   "metadata": {},
   "outputs": [],
   "source": [
    "def pot(i, j):\n",
    "     \n",
    "    if j == 0:\n",
    "        \n",
    "        return 1\n",
    "    \n",
    "    else:\n",
    "        \n",
    "        return i * pot(i, j - 1)"
   ]
  },
  {
   "cell_type": "code",
   "execution_count": 27,
   "id": "f1ccfe85",
   "metadata": {},
   "outputs": [
    {
     "name": "stdout",
     "output_type": "stream",
     "text": [
      "Enter the base: 4\n",
      "The base is 4\n",
      "\n",
      "Press any key to continue...\n",
      "Enter the second number of the sequence: 4\n",
      "The second number is 4\n",
      "\n",
      "Press any key to continue...\n",
      "4 a la 4 es 256\n"
     ]
    }
   ],
   "source": [
    "if __name__ == \"__main__\":\n",
    "    \n",
    "    band = False\n",
    "    \n",
    "    while not band: \n",
    "        \n",
    "        try:\n",
    "            base = int(input(\"Enter the base: \"))\n",
    "            \n",
    "            if base >= 0:\n",
    "                \n",
    "                band = True\n",
    "                \n",
    "                print(f\"The base is {base}\\n\")\n",
    "                \n",
    "            else:\n",
    "                \n",
    "                print(\"You must enter a valid input\\n\")\n",
    "                \n",
    "                print(\"Only integers greater or equal to 0\\n\")\n",
    "                \n",
    "            input(\"Press any key to continue...\")\n",
    "                \n",
    "            clear()\n",
    "                \n",
    "        except Exception as e:\n",
    "            \n",
    "            print(str(e)+\"\\n\")\n",
    "            \n",
    "            print(\"You must enter an integer\\n\")\n",
    "            \n",
    "            input(\"Press any key to continue...\")\n",
    "            \n",
    "            clear()\n",
    "    \n",
    "    band = False\n",
    "    \n",
    "    while not band: \n",
    "        \n",
    "        try:\n",
    "            exponent = int(input(\"Enter the second number of the sequence: \"))\n",
    "            \n",
    "            if exponent >= 0:\n",
    "                \n",
    "                band = True\n",
    "                \n",
    "                print(f\"The second number is {exponent}\\n\")\n",
    "                \n",
    "            else:\n",
    "                \n",
    "                print(\"You must enter a valid input\\n\")\n",
    "                \n",
    "                print(\"Only integers greater or equal to 0\\n\")\n",
    "                \n",
    "            input(\"Press any key to continue...\")\n",
    "                \n",
    "            clear()\n",
    "                \n",
    "        except Exception as e:\n",
    "            \n",
    "            print(str(e)+\"\\n\")\n",
    "            \n",
    "            print(\"You must enter an integer\\n\")\n",
    "            \n",
    "            input(\"Press any key to continue...\")\n",
    "            \n",
    "            clear()\n",
    "    \n",
    "    potencia = pot(base, exponent)\n",
    "    \n",
    "    print(f\"{base} a la {exponent} es {potencia}\")"
   ]
  },
  {
   "cell_type": "markdown",
   "id": "51956e66",
   "metadata": {},
   "source": [
    "# 5. Desarrollar una función que permita convertir un número romano en un número decimal."
   ]
  },
  {
   "cell_type": "markdown",
   "id": "54e746cf",
   "metadata": {},
   "source": [
    "# 6. Dada una secuencia de caracteres, obtener dicha secuencia invertida."
   ]
  },
  {
   "cell_type": "code",
   "execution_count": 43,
   "id": "ef718bd7",
   "metadata": {},
   "outputs": [],
   "source": [
    "def invert(c, n):\n",
    "    \n",
    "    if n == 0:\n",
    "        \n",
    "        return \" \"\n",
    "    \n",
    "    else:\n",
    "    \n",
    "        return str(c[n-1]) + invert(c, n - 1)\n",
    "    "
   ]
  },
  {
   "cell_type": "code",
   "execution_count": 45,
   "id": "74ddf18f",
   "metadata": {},
   "outputs": [
    {
     "name": "stdout",
     "output_type": "stream",
     "text": [
      "Enter the sequence of characters: sheldon\n",
      "The reverse sequence of sheldon is nodlehs \n"
     ]
    }
   ],
   "source": [
    "if __name__ == \"__main__\":         \n",
    "       \n",
    "    sequence = str(input(\"Enter the sequence of characters: \"))\n",
    "                   \n",
    "    print(f\"The reverse sequence of {sequence} is {invert(sequence, len(sequence))}\")"
   ]
  },
  {
   "cell_type": "markdown",
   "id": "68f73a53",
   "metadata": {},
   "source": [
    "# 7. Desarrollar un algoritmo que permita calcular la siguiente serie:\n",
    "\n",
    "h(n) = 1 + 1/2 + 1/3 + ... + 1/n"
   ]
  },
  {
   "cell_type": "code",
   "execution_count": 48,
   "id": "af85e129",
   "metadata": {},
   "outputs": [],
   "source": [
    "def serieSuma(n):\n",
    "    \n",
    "    if n == 1:\n",
    "        \n",
    "        return 1\n",
    "    \n",
    "    else:\n",
    "        \n",
    "        return 1 / n + serieSuma(n - 1)"
   ]
  },
  {
   "cell_type": "code",
   "execution_count": 49,
   "id": "13a14751",
   "metadata": {},
   "outputs": [
    {
     "name": "stdout",
     "output_type": "stream",
     "text": [
      "Enter the number of the sequence: 3\n",
      "You have entered the number 3\n",
      "\n",
      "Press any key to continue...\n",
      "La suma de la serie para 3 es 1.8333333333333333\n"
     ]
    }
   ],
   "source": [
    "if __name__ == \"__main__\":\n",
    "    \n",
    "    band = False\n",
    "    \n",
    "    while not band: \n",
    "        \n",
    "        try:\n",
    "            number = int(input(\"Enter the number of the sequence: \"))\n",
    "            \n",
    "            if number >= 0:\n",
    "                \n",
    "                band = True\n",
    "                \n",
    "                print(f\"You have entered the number {number}\\n\")\n",
    "                \n",
    "            else:\n",
    "                \n",
    "                print(\"You must enter a valid input\\n\")\n",
    "                \n",
    "                print(\"Only integers greater or equal to 0\\n\")\n",
    "                \n",
    "            input(\"Press any key to continue...\")\n",
    "                \n",
    "            clear()\n",
    "                \n",
    "        except Exception as e:\n",
    "            \n",
    "            print(str(e)+\"\\n\")\n",
    "            \n",
    "            print(\"You must enter an integer\\n\")\n",
    "            \n",
    "            input(\"Press any key to continue...\")\n",
    "            \n",
    "            clear()\n",
    "    \n",
    "    serie = serieSuma(number)\n",
    "    \n",
    "    print(f\"La suma de la serie para {number} es {serie}\")"
   ]
  },
  {
   "cell_type": "markdown",
   "id": "6589f60b",
   "metadata": {},
   "source": [
    "# 8. Desarrollar un algoritmo que permita convertir un número entero en sistema decimal a sistema binario."
   ]
  },
  {
   "cell_type": "code",
   "execution_count": 52,
   "id": "730db596",
   "metadata": {},
   "outputs": [],
   "source": [
    "def enteroBinario(n):\n",
    "    \n",
    "    if n == 0 or n == 1:\n",
    "        \n",
    "        return str(n)\n",
    "    \n",
    "    else:\n",
    "        \n",
    "        return enteroBinario(n // 2) + str(n % 2)"
   ]
  },
  {
   "cell_type": "code",
   "execution_count": 54,
   "id": "6ec14bea",
   "metadata": {},
   "outputs": [
    {
     "name": "stdout",
     "output_type": "stream",
     "text": [
      "Enter the number: 7\n",
      "You have entered the number 7\n",
      "\n",
      "Press any key to continue...\n",
      "The binary numbe of 7 is 111\n"
     ]
    }
   ],
   "source": [
    "if __name__ == \"__main__\":\n",
    "    \n",
    "    band = False\n",
    "    \n",
    "    while not band: \n",
    "        \n",
    "        try:\n",
    "            number = int(input(\"Enter the number: \"))\n",
    "            \n",
    "            if number >= 0:\n",
    "                \n",
    "                band = True\n",
    "                \n",
    "                print(f\"You have entered the number {number}\\n\")\n",
    "                \n",
    "            else:\n",
    "                \n",
    "                print(\"You must enter a valid input\\n\")\n",
    "                \n",
    "                print(\"Only integers greater or equal to 0\\n\")\n",
    "                \n",
    "            input(\"Press any key to continue...\")\n",
    "                \n",
    "            clear()\n",
    "                \n",
    "        except Exception as e:\n",
    "            \n",
    "            print(str(e)+\"\\n\")\n",
    "            \n",
    "            print(\"You must enter an integer\\n\")\n",
    "            \n",
    "            input(\"Press any key to continue...\")\n",
    "            \n",
    "            clear()\n",
    "    \n",
    "    bina = enteroBinario(number)\n",
    "    \n",
    "    print(f\"The binary numbe of {number} is {bina}\")"
   ]
  },
  {
   "cell_type": "code",
   "execution_count": null,
   "id": "31da94e3",
   "metadata": {},
   "outputs": [],
   "source": []
  },
  {
   "cell_type": "code",
   "execution_count": null,
   "id": "8791c1a7",
   "metadata": {},
   "outputs": [],
   "source": []
  }
 ],
 "metadata": {
  "kernelspec": {
   "display_name": "Python 3 (ipykernel)",
   "language": "python",
   "name": "python3"
  },
  "language_info": {
   "codemirror_mode": {
    "name": "ipython",
    "version": 3
   },
   "file_extension": ".py",
   "mimetype": "text/x-python",
   "name": "python",
   "nbconvert_exporter": "python",
   "pygments_lexer": "ipython3",
   "version": "3.9.13"
  }
 },
 "nbformat": 4,
 "nbformat_minor": 5
}
