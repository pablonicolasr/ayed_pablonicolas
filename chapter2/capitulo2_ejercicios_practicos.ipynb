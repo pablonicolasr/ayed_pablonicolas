{
 "cells": [
  {
   "cell_type": "markdown",
   "id": "5e6724ec",
   "metadata": {},
   "source": [
    "Pablo Nicolas Ramos\n",
    "\n",
    "linkedin: https://ar.linkedin.com/in/pablonicolasr"
   ]
  },
  {
   "cell_type": "markdown",
   "id": "a71935c2",
   "metadata": {},
   "source": [
    "# Guía de ejercicios prácticos"
   ]
  },
  {
   "cell_type": "markdown",
   "id": "46847ac5",
   "metadata": {},
   "source": [
    "# 1. Implementar una función que permita obtener el valor en la sucesión de Fibonacci para un número dado."
   ]
  },
  {
   "cell_type": "code",
   "execution_count": 1,
   "id": "6f7f9341",
   "metadata": {},
   "outputs": [],
   "source": [
    "import os"
   ]
  },
  {
   "cell_type": "code",
   "execution_count": 2,
   "id": "aa3c4672",
   "metadata": {},
   "outputs": [],
   "source": [
    "def clear():\n",
    "        \n",
    "    # clear the screen\n",
    "\n",
    "    return os.system(\"cls\" if os.name==\"nt\" else \"clear\")"
   ]
  },
  {
   "cell_type": "code",
   "execution_count": 3,
   "id": "e3e8ed88",
   "metadata": {},
   "outputs": [],
   "source": [
    "class Fibonacci:\n",
    "    \n",
    "    def __init__(self):\n",
    "        \n",
    "        self.cache = [0, 1]\n",
    "\n",
    "    def __call__(self, n):\n",
    "        \n",
    "        if not (isinstance(n, int) and n >= 0):\n",
    "            \n",
    "            raise ValueError(f\"Positive integer number expected, got {n}\")\n",
    "\n",
    "        if n < len(self.cache):\n",
    "            \n",
    "            return self.cache[n]\n",
    "        \n",
    "        else:\n",
    "            \n",
    "            fib_number = self(n - 1) + self(n - 2)\n",
    "            \n",
    "            self.cache.append(fib_number)\n",
    "\n",
    "        return self.cache[n]      "
   ]
  },
  {
   "cell_type": "code",
   "execution_count": 4,
   "id": "03fc373d",
   "metadata": {},
   "outputs": [
    {
     "name": "stdout",
     "output_type": "stream",
     "text": [
      "Enter the number of the sequence: 10\n",
      "You have entered the number 10\n",
      "\n",
      "Press any key to continue...\n",
      "El numero de fibonacci, de la secuencia número 10 es 55\n"
     ]
    }
   ],
   "source": [
    "if __name__ == \"__main__\":\n",
    "    \n",
    "    band = False\n",
    "    \n",
    "    while not band: \n",
    "        \n",
    "        try:\n",
    "            number = int(input(\"Enter the number of the sequence: \"))\n",
    "            \n",
    "            if number >= 0:\n",
    "                \n",
    "                band = True\n",
    "                \n",
    "                print(f\"You have entered the number {number}\\n\")\n",
    "                \n",
    "            else:\n",
    "                \n",
    "                print(\"You must enter a valid input\\n\")\n",
    "                \n",
    "                print(\"Only integers greater or equal to 0\\n\")\n",
    "                \n",
    "            input(\"Press any key to continue...\")\n",
    "                \n",
    "            clear()\n",
    "                \n",
    "        except Exception as e:\n",
    "            \n",
    "            print(str(e)+\"\\n\")\n",
    "            \n",
    "            print(\"You must enter an integer\\n\")\n",
    "            \n",
    "            input(\"Press any key to continue...\")\n",
    "            \n",
    "            clear()\n",
    "    \n",
    "    fibo = Fibonacci()\n",
    "    \n",
    "    print(f\"El numero de fibonacci, de la secuencia número {number} es {fibo(number)}\")"
   ]
  },
  {
   "cell_type": "markdown",
   "id": "7e95b502",
   "metadata": {},
   "source": [
    "# 2. Implementar una función que calcule la suma de todos los números enteros comprendidos entre cero y un número entero positivo dado."
   ]
  },
  {
   "cell_type": "code",
   "execution_count": 11,
   "id": "354e0e8c",
   "metadata": {},
   "outputs": [],
   "source": [
    "class Suma:\n",
    "    \n",
    "    def __init__(self):\n",
    "        \n",
    "        self.cache = []\n",
    "    \n",
    "    def suma(self):\n",
    "        \n",
    "        return sum(self.cache)\n",
    "    \n",
    "    def __call__(self, n):\n",
    "        \n",
    "        if not (isinstance(n, int) and n >= 0):\n",
    "            \n",
    "            raise ValueError(f\"Positive integer number expected, got {n}\")\n",
    "        \n",
    "        if n == 0:\n",
    "            \n",
    "            return self.suma()\n",
    "        \n",
    "        else:\n",
    "            \n",
    "            self.cache.append(n)\n",
    "            \n",
    "            self(n - 1)\n",
    "        \n",
    "        return self.suma()"
   ]
  },
  {
   "cell_type": "code",
   "execution_count": 15,
   "id": "ae5c72a6",
   "metadata": {},
   "outputs": [
    {
     "name": "stdout",
     "output_type": "stream",
     "text": [
      "Enter the number of the sequence: -10\n",
      "You must enter a valid input\n",
      "\n",
      "Only integers greater or equal to 0\n",
      "\n",
      "Press any key to continue...\n",
      "Enter the number of the sequence: 2\n",
      "You have entered the number 2\n",
      "\n",
      "Press any key to continue...\n",
      "La suma desde 0 a 2 es 3\n"
     ]
    }
   ],
   "source": [
    "if __name__ == \"__main__\":\n",
    "    \n",
    "    band = False\n",
    "    \n",
    "    while not band: \n",
    "        \n",
    "        try:\n",
    "            number = int(input(\"Enter the number of the sequence: \"))\n",
    "            \n",
    "            if number >= 0:\n",
    "                \n",
    "                band = True\n",
    "                \n",
    "                print(f\"You have entered the number {number}\\n\")\n",
    "                \n",
    "            else:\n",
    "                \n",
    "                print(\"You must enter a valid input\\n\")\n",
    "                \n",
    "                print(\"Only integers greater or equal to 0\\n\")\n",
    "                \n",
    "            input(\"Press any key to continue...\")\n",
    "                \n",
    "            clear()\n",
    "                \n",
    "        except Exception as e:\n",
    "            \n",
    "            print(str(e)+\"\\n\")\n",
    "            \n",
    "            print(\"You must enter an integer\\n\")\n",
    "            \n",
    "            input(\"Press any key to continue...\")\n",
    "            \n",
    "            clear()\n",
    "    \n",
    "    suma = Suma()\n",
    "    \n",
    "    print(f\"La suma desde 0 a {number} es {suma(number)}\")"
   ]
  },
  {
   "cell_type": "markdown",
   "id": "94bffe95",
   "metadata": {},
   "source": [
    "# 3. Implementar una función para calcular el producto de dos números enteros dados"
   ]
  },
  {
   "cell_type": "code",
   "execution_count": null,
   "id": "978fc9ed",
   "metadata": {},
   "outputs": [],
   "source": []
  }
 ],
 "metadata": {
  "kernelspec": {
   "display_name": "Python 3 (ipykernel)",
   "language": "python",
   "name": "python3"
  },
  "language_info": {
   "codemirror_mode": {
    "name": "ipython",
    "version": 3
   },
   "file_extension": ".py",
   "mimetype": "text/x-python",
   "name": "python",
   "nbconvert_exporter": "python",
   "pygments_lexer": "ipython3",
   "version": "3.9.13"
  }
 },
 "nbformat": 4,
 "nbformat_minor": 5
}
